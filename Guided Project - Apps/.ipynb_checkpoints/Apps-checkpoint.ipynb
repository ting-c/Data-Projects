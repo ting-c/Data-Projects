{
 "cells": [
  {
   "cell_type": "markdown",
   "metadata": {},
   "source": [
    "# Apps Analysis\n",
    "\n",
    "The aim of this project is to find the kinds of mobile apps that attract our users. As our company only build free to download apps, the main source of revenue consists of in-app ads. Our goal is to gain insight on the styles of apps that are most popular with our users. "
   ]
  },
  {
   "cell_type": "markdown",
   "metadata": {},
   "source": [
    "## Opening and Exploring the Data\n",
    "\n",
    "\n",
    "Since there are over a million apps on the market for iOS and Android, it is not wise to use all of those data for our analysis so we'll use a sample of data instead. On Kaggle, there are downloadable datasets that we can use for the analysis. One of the dataset is for iOS (approx. 7000 apps) and the other is for Android (approx. 10000 apps). \n",
    "\n",
    "[iOS](https://www.kaggle.com/ramamet4/app-store-apple-data-set-10k-apps#AppleStore.csv)\n",
    "\n",
    "[Android](https://www.kaggle.com/lava18/google-play-store-apps#googleplaystore.csv)\n",
    "\n",
    "\n",
    "\n",
    "Let's start by opening the files and exploring the data\n"
   ]
  },
  {
   "cell_type": "code",
   "execution_count": 1,
   "metadata": {},
   "outputs": [],
   "source": [
    "# Opening the AppleStore.csv file \n",
    "from csv import reader\n",
    "opened_file = open('AppleStore.csv')\n",
    "read_file = reader(opened_file)\n",
    "ios = list(read_file)\n",
    "# seperate the header from the rest \n",
    "ios_header = ios[0]\n",
    "ios = ios[1:]\n",
    "\n",
    "# Opening the googleplaystore.csv file\n",
    "from csv import reader\n",
    "opened_file = open('googleplaystore.csv')\n",
    "read_file = reader(opened_file)\n",
    "android = list(read_file)\n",
    "# seperate the header from the rest\n",
    "android_header = android[0]\n",
    "android = android[1:]\n"
   ]
  },
  {
   "cell_type": "markdown",
   "metadata": {},
   "source": [
    "We will use a generic function to make the list more readable. We will start with ios:"
   ]
  },
  {
   "cell_type": "code",
   "execution_count": 2,
   "metadata": {},
   "outputs": [
    {
     "name": "stdout",
     "output_type": "stream",
     "text": [
      "['', 'id', 'track_name', 'size_bytes', 'currency', 'price', 'rating_count_tot', 'rating_count_ver', 'user_rating', 'user_rating_ver', 'ver', 'cont_rating', 'prime_genre', 'sup_devices.num', 'ipadSc_urls.num', 'lang.num', 'vpp_lic']\n",
      "\n",
      "\n",
      "['1', '281656475', 'PAC-MAN Premium', '100788224', 'USD', '3.99', '21292', '26', '4', '4.5', '6.3.5', '4+', 'Games', '38', '5', '10', '1']\n",
      "\n",
      "\n",
      "['2', '281796108', 'Evernote - stay organized', '158578688', 'USD', '0', '161065', '26', '4', '3.5', '8.2.2', '4+', 'Productivity', '37', '5', '23', '1']\n",
      "\n",
      "\n",
      "['3', '281940292', 'WeatherBug - Local Weather, Radar, Maps, Alerts', '100524032', 'USD', '0', '188583', '2822', '3.5', '4.5', '5.0.0', '4+', 'Weather', '37', '5', '3', '1']\n",
      "\n",
      "\n",
      "['4', '282614216', 'eBay: Best App to Buy, Sell, Save! Online Shopping', '128512000', 'USD', '0', '262241', '649', '4', '4.5', '5.10.0', '12+', 'Shopping', '37', '5', '9', '1']\n",
      "\n",
      "\n",
      "Number of rows: 7197\n",
      "Number of columns: 17\n"
     ]
    }
   ],
   "source": [
    "# Generic function to display the few rows of the dataset\n",
    "def explore_data(dataset, start, end, rows_and_columns=False):\n",
    "    dataset_slice = dataset[start:end]    \n",
    "    for row in dataset_slice:\n",
    "        print(row)\n",
    "        print('\\n') # adds a new (empty) line after each row\n",
    "\n",
    "    if rows_and_columns:\n",
    "        print('Number of rows:', len(dataset))\n",
    "        print('Number of columns:', len(dataset[0]))\n",
    "        \n",
    "# iOS\n",
    "# print the header list\n",
    "print(ios_header)\n",
    "# enter a new line\n",
    "print('\\n')\n",
    "# apply the function to the dataset and print the first 4 rows\n",
    "# assigning the argument for rows_and_columns = True to print the number of rows and columns\n",
    "explore_data(ios, 0 , 4, True)\n",
    "        \n"
   ]
  },
  {
   "cell_type": "markdown",
   "metadata": {},
   "source": [
    "We can see that the first column doesn't have a name and the values are just indexes for each row. Since we don't need this, we will remove the entire column from the data set."
   ]
  },
  {
   "cell_type": "code",
   "execution_count": 3,
   "metadata": {},
   "outputs": [
    {
     "name": "stdout",
     "output_type": "stream",
     "text": [
      "['id', 'track_name', 'size_bytes', 'currency', 'price', 'rating_count_tot', 'rating_count_ver', 'user_rating', 'user_rating_ver', 'ver', 'cont_rating', 'prime_genre', 'sup_devices.num', 'ipadSc_urls.num', 'lang.num', 'vpp_lic']\n",
      "\n",
      "\n",
      "['281656475', 'PAC-MAN Premium', '100788224', 'USD', '3.99', '21292', '26', '4', '4.5', '6.3.5', '4+', 'Games', '38', '5', '10', '1']\n",
      "\n",
      "\n",
      "['281796108', 'Evernote - stay organized', '158578688', 'USD', '0', '161065', '26', '4', '3.5', '8.2.2', '4+', 'Productivity', '37', '5', '23', '1']\n",
      "\n",
      "\n",
      "['281940292', 'WeatherBug - Local Weather, Radar, Maps, Alerts', '100524032', 'USD', '0', '188583', '2822', '3.5', '4.5', '5.0.0', '4+', 'Weather', '37', '5', '3', '1']\n",
      "\n",
      "\n",
      "['282614216', 'eBay: Best App to Buy, Sell, Save! Online Shopping', '128512000', 'USD', '0', '262241', '649', '4', '4.5', '5.10.0', '12+', 'Shopping', '37', '5', '9', '1']\n",
      "\n",
      "\n",
      "Number of rows: 7197\n",
      "Number of columns: 16\n"
     ]
    }
   ],
   "source": [
    "# Create a loop to go through each row and delete the first element\n",
    "for app in ios:\n",
    "    del app[0]\n",
    "    \n",
    "del ios_header[0]\n",
    "\n",
    "print(ios_header)\n",
    "print('\\n')\n",
    "explore_data(ios, 0 , 4, True)"
   ]
  },
  {
   "cell_type": "markdown",
   "metadata": {},
   "source": [
    "We can see that there are 7197 rows which represent the number of apps and 16 columns of information which can be used for our analysis. At first glance, the rating_count_tot, prime_genre, user_rating, track_name and price might be useful for our analysis. Details about each column can be found in the data set [documentation](https://www.kaggle.com/ramamet4/app-store-apple-data-set-10k-apps#AppleStore.csv).\n",
    "\n",
    "Now we do the same for Android apps."
   ]
  },
  {
   "cell_type": "code",
   "execution_count": 4,
   "metadata": {},
   "outputs": [
    {
     "name": "stdout",
     "output_type": "stream",
     "text": [
      "['App', 'Category', 'Rating', 'Reviews', 'Size', 'Installs', 'Type', 'Price', 'Content Rating', 'Genres', 'Last Updated', 'Current Ver', 'Android Ver']\n",
      "\n",
      "\n",
      "['Photo Editor & Candy Camera & Grid & ScrapBook', 'ART_AND_DESIGN', '4.1', '159', '19M', '10,000+', 'Free', '0', 'Everyone', 'Art & Design', 'January 7, 2018', '1.0.0', '4.0.3 and up']\n",
      "\n",
      "\n",
      "['Coloring book moana', 'ART_AND_DESIGN', '3.9', '967', '14M', '500,000+', 'Free', '0', 'Everyone', 'Art & Design;Pretend Play', 'January 15, 2018', '2.0.0', '4.0.3 and up']\n",
      "\n",
      "\n",
      "['U Launcher Lite – FREE Live Cool Themes, Hide Apps', 'ART_AND_DESIGN', '4.7', '87510', '8.7M', '5,000,000+', 'Free', '0', 'Everyone', 'Art & Design', 'August 1, 2018', '1.2.4', '4.0.3 and up']\n",
      "\n",
      "\n",
      "['Sketch - Draw & Paint', 'ART_AND_DESIGN', '4.5', '215644', '25M', '50,000,000+', 'Free', '0', 'Teen', 'Art & Design', 'June 8, 2018', 'Varies with device', '4.2 and up']\n",
      "\n",
      "\n",
      "Number of rows: 10841\n",
      "Number of columns: 13\n"
     ]
    }
   ],
   "source": [
    "# Android\n",
    "# print the header list\n",
    "print(android_header)\n",
    "# enter a new line\n",
    "print('\\n')\n",
    "# apply the function to the dataset and print the first 4 rows\n",
    "# assigning the argument for rows_and_columns = True to print the number of rows and columns\n",
    "explore_data(android, 0 , 4, True)"
   ]
  },
  {
   "cell_type": "markdown",
   "metadata": {},
   "source": [
    "We can see there are 10841 users and 13 columns of information for Android apps. Similarly, it seems like 'App', 'Category', 'Rating', 'Reviews','Price', 'Content Rating' and'Genres' might be useful for our analysis.\n"
   ]
  },
  {
   "cell_type": "markdown",
   "metadata": {},
   "source": [
    "## Removing wrong data\n",
    "\n",
    "There's a dedicated [discussion](https://www.kaggle.com/lava18/google-play-store-apps/discussion/66015) for the Google Play and it pointed out an error in row 10472. Let's print this row and compare it against the header and few other rows that is correct."
   ]
  },
  {
   "cell_type": "code",
   "execution_count": 5,
   "metadata": {},
   "outputs": [
    {
     "name": "stdout",
     "output_type": "stream",
     "text": [
      "['App', 'Category', 'Rating', 'Reviews', 'Size', 'Installs', 'Type', 'Price', 'Content Rating', 'Genres', 'Last Updated', 'Current Ver', 'Android Ver']\n",
      "\n",
      "\n",
      "['Xposed Wi-Fi-Pwd', 'PERSONALIZATION', '3.5', '1042', '404k', '100,000+', 'Free', '0', 'Everyone', 'Personalization', 'August 5, 2014', '3.0.0', '4.0.3 and up']\n",
      "\n",
      "\n",
      "['Life Made WI-Fi Touchscreen Photo Frame', '1.9', '19', '3.0M', '1,000+', 'Free', '0', 'Everyone', '', 'February 11, 2018', '1.0.19', '4.0 and up']\n",
      "\n",
      "\n",
      "['osmino Wi-Fi: free WiFi', 'TOOLS', '4.2', '134203', '4.1M', '10,000,000+', 'Free', '0', 'Everyone', 'Tools', 'August 7, 2018', '6.06.14', '4.4 and up']\n"
     ]
    }
   ],
   "source": [
    "print(android_header)\n",
    "print('\\n')\n",
    "print(android[10471])\n",
    "print('\\n')\n",
    "print(android[10472])\n",
    "print('\\n')\n",
    "print(android[10473])"
   ]
  },
  {
   "cell_type": "markdown",
   "metadata": {},
   "source": [
    "We can see that row 10472 is indeed has an error. It seems like it is missing the category data and had a column shift which affected the data for the rest of thr row. Since we are not sure what the actual value is, we will delete the entire row 10472."
   ]
  },
  {
   "cell_type": "code",
   "execution_count": 6,
   "metadata": {},
   "outputs": [
    {
     "name": "stdout",
     "output_type": "stream",
     "text": [
      "10841\n",
      "10840\n"
     ]
    }
   ],
   "source": [
    "# Before we delete the row, lets check the number of rows\n",
    "print(len(android))\n",
    "# Delete row 10472, make sure this code is run only ONCE\n",
    "del android[10472]  \n",
    "# Check whether the row has been deleted successfully\n",
    "print(len(android))"
   ]
  },
  {
   "cell_type": "markdown",
   "metadata": {},
   "source": [
    "## Deleting Duplicate Entries\n",
    "\n",
    "Duplicate entries is very common in data sets, and it is no surprise that the data set we have for Android and iOS also have duplicate entries.\n",
    "\n",
    "For example, the Instagram app has few entries in the Google Play data set:"
   ]
  },
  {
   "cell_type": "code",
   "execution_count": 7,
   "metadata": {},
   "outputs": [
    {
     "name": "stdout",
     "output_type": "stream",
     "text": [
      "['Instagram', 'SOCIAL', '4.5', '66577313', 'Varies with device', '1,000,000,000+', 'Free', '0', 'Teen', 'Social', 'July 31, 2018', 'Varies with device', 'Varies with device']\n",
      "['Instagram', 'SOCIAL', '4.5', '66577446', 'Varies with device', '1,000,000,000+', 'Free', '0', 'Teen', 'Social', 'July 31, 2018', 'Varies with device', 'Varies with device']\n",
      "['Instagram', 'SOCIAL', '4.5', '66577313', 'Varies with device', '1,000,000,000+', 'Free', '0', 'Teen', 'Social', 'July 31, 2018', 'Varies with device', 'Varies with device']\n",
      "['Instagram', 'SOCIAL', '4.5', '66509917', 'Varies with device', '1,000,000,000+', 'Free', '0', 'Teen', 'Social', 'July 31, 2018', 'Varies with device', 'Varies with device']\n"
     ]
    }
   ],
   "source": [
    "# create a loop to go through for each row in the android data set\n",
    "for app in android:\n",
    "    # column index 0 represents the name of the app\n",
    "    name = app[0]\n",
    "    if name == 'Instagram':\n",
    "        print(app)"
   ]
  },
  {
   "cell_type": "markdown",
   "metadata": {},
   "source": [
    "We can see there's 4 duplicate entries for Instagram app. We suspect there are other apps with duplicate entries. Let's see if that is the case. We will use a function to help us to find them.\n"
   ]
  },
  {
   "cell_type": "code",
   "execution_count": 8,
   "metadata": {},
   "outputs": [
    {
     "name": "stdout",
     "output_type": "stream",
     "text": [
      "Number of duplicate apps: 1181\n",
      "\n",
      "\n",
      "Examples of duplicate apps: ['Quick PDF Scanner + OCR FREE', 'Box', 'Google My Business', 'ZOOM Cloud Meetings', 'join.me - Simple Meetings', 'Box', 'Zenefits', 'Google Ads', 'Google My Business', 'Slack', 'FreshBooks Classic', 'Insightly CRM', 'QuickBooks Accounting: Invoicing & Expenses', 'HipChat - Chat Built for Teams', 'Xero Accounting Software']\n"
     ]
    }
   ],
   "source": [
    "# Create an empty list for both duplicate and unique apps\n",
    "duplicate_apps =[]\n",
    "unique_apps = []\n",
    "\n",
    "# Create a loop to go through each row and put the names in the unique_apps list\n",
    "for app in android:\n",
    "    name = app[0]\n",
    "    # Check if name is already in unique_apps, if true then append to duplicate_apps\n",
    "    if name in unique_apps:\n",
    "        duplicate_apps.append(name)\n",
    "    else:\n",
    "        unique_apps.append(name)\n",
    "        \n",
    "# Calculate the length of the duplicate_apps list and print out the number of apps        \n",
    "print('Number of duplicate apps:', len(duplicate_apps))\n",
    "print('\\n')\n",
    "# print the first 15 examples of duplicate apps\n",
    "print('Examples of duplicate apps:', duplicate_apps[:15])"
   ]
  },
  {
   "cell_type": "markdown",
   "metadata": {},
   "source": [
    "We don't want to count certain apps more than once when we analyse data, so we need to remove the duplicate entries and keep only one entry per app. We could remove the duplicate rows randomly, but we could probably find a better way.\n",
    "\n",
    "If we look at the header and rows we printed for the Instagram app, we can see the fourth position of each row corresponds to the number of reviews. The different numbers show the data was collected at different times. Therefore we will keep the row with the most recent data and remove the other rows."
   ]
  },
  {
   "cell_type": "code",
   "execution_count": 9,
   "metadata": {},
   "outputs": [
    {
     "name": "stdout",
     "output_type": "stream",
     "text": [
      "['App', 'Category', 'Rating', 'Reviews', 'Size', 'Installs', 'Type', 'Price', 'Content Rating', 'Genres', 'Last Updated', 'Current Ver', 'Android Ver']\n",
      "\n",
      "\n",
      "['Instagram', 'SOCIAL', '4.5', '66577313', 'Varies with device', '1,000,000,000+', 'Free', '0', 'Teen', 'Social', 'July 31, 2018', 'Varies with device', 'Varies with device']\n",
      "['Instagram', 'SOCIAL', '4.5', '66577446', 'Varies with device', '1,000,000,000+', 'Free', '0', 'Teen', 'Social', 'July 31, 2018', 'Varies with device', 'Varies with device']\n",
      "['Instagram', 'SOCIAL', '4.5', '66577313', 'Varies with device', '1,000,000,000+', 'Free', '0', 'Teen', 'Social', 'July 31, 2018', 'Varies with device', 'Varies with device']\n",
      "['Instagram', 'SOCIAL', '4.5', '66509917', 'Varies with device', '1,000,000,000+', 'Free', '0', 'Teen', 'Social', 'July 31, 2018', 'Varies with device', 'Varies with device']\n"
     ]
    }
   ],
   "source": [
    "print(android_header)\n",
    "print('\\n')\n",
    "for app in android:\n",
    "    # column index 0 represents the name of the app\n",
    "    name = app[0]\n",
    "    if name == 'Instagram':\n",
    "        print(app)"
   ]
  },
  {
   "cell_type": "markdown",
   "metadata": {},
   "source": [
    "To remove the duplicates, we will:\n",
    "\n",
    "- Create a dictionary, where each dictionary key is a unique app name. The corresponding dictionary value is the highest number of reviews of that app.\n",
    "\n",
    "- Create a new data set using the information stored in the dictionary. The new data set will then have only one entry per app.\n",
    "  For each app, we'll only select the entry with the highest number of reviews).\n"
   ]
  },
  {
   "cell_type": "markdown",
   "metadata": {},
   "source": [
    "#### First objective: \n",
    "Create a dictionary which contains the unique apps name and highest number of reviews"
   ]
  },
  {
   "cell_type": "code",
   "execution_count": 10,
   "metadata": {},
   "outputs": [
    {
     "name": "stdout",
     "output_type": "stream",
     "text": [
      "9659\n",
      "9659\n"
     ]
    }
   ],
   "source": [
    "reviews_max = {}\n",
    "for app in android:\n",
    "    name = app[0]\n",
    "    n_reviews = float(app[3])\n",
    "    # if name is in the dictionary and n_reviews is larger than the current corresponding value for the key\n",
    "    if name in reviews_max and reviews_max[name] < n_reviews:\n",
    "        # if true, update the corresponding value for the dictionary key\n",
    "        reviews_max[name] = n_reviews\n",
    "    elif name not in reviews_max:\n",
    "        # Create a new entry in the dictionary\n",
    "        reviews_max[name] = n_reviews\n",
    "        \n",
    "# Check whether the row has been deleted successfully\n",
    "# expected = android - duplicate_apps\n",
    "expected = len(android)-len(duplicate_apps)\n",
    "print(expected)\n",
    "print(len(reviews_max))"
   ]
  },
  {
   "cell_type": "markdown",
   "metadata": {},
   "source": [
    "We can confirm that the data set for Android now has no duplicate entries."
   ]
  },
  {
   "cell_type": "markdown",
   "metadata": {},
   "source": [
    "#### Second objective: \n",
    "Creates a new data set with only one entry per app"
   ]
  },
  {
   "cell_type": "code",
   "execution_count": 11,
   "metadata": {},
   "outputs": [],
   "source": [
    "# Remove the duplicate rows by having two list: android_clean and already_added\n",
    "# To store new cleaned data set\n",
    "android_clean = []\n",
    "# To store app names\n",
    "already_added = []\n",
    "\n",
    "# create a loop with conditions to add the apps from 'android' data set to 'android_clean' list \n",
    "for app in android:\n",
    "    name = app[0]\n",
    "    n_reviews = float(app[3])\n",
    "    # if n_reviews is the same as the corresponding value in reviews_max dictionary\n",
    "    # and app name is not in 'already_added' list to avoid adding duplicate apps with the same number of reviews.\n",
    "    if (n_reviews == reviews_max[name]) and (name not in already_added):\n",
    "        android_clean.append(app)\n",
    "        already_added.append(name)\n",
    "        "
   ]
  },
  {
   "cell_type": "markdown",
   "metadata": {},
   "source": [
    "Now let's look at the new data set, and make sure that the number of rows is 9,659."
   ]
  },
  {
   "cell_type": "code",
   "execution_count": 12,
   "metadata": {},
   "outputs": [
    {
     "name": "stdout",
     "output_type": "stream",
     "text": [
      "['Photo Editor & Candy Camera & Grid & ScrapBook', 'ART_AND_DESIGN', '4.1', '159', '19M', '10,000+', 'Free', '0', 'Everyone', 'Art & Design', 'January 7, 2018', '1.0.0', '4.0.3 and up']\n",
      "\n",
      "\n",
      "['U Launcher Lite – FREE Live Cool Themes, Hide Apps', 'ART_AND_DESIGN', '4.7', '87510', '8.7M', '5,000,000+', 'Free', '0', 'Everyone', 'Art & Design', 'August 1, 2018', '1.2.4', '4.0.3 and up']\n",
      "\n",
      "\n",
      "['Sketch - Draw & Paint', 'ART_AND_DESIGN', '4.5', '215644', '25M', '50,000,000+', 'Free', '0', 'Teen', 'Art & Design', 'June 8, 2018', 'Varies with device', '4.2 and up']\n",
      "\n",
      "\n",
      "Number of rows: 9659\n",
      "Number of columns: 13\n"
     ]
    }
   ],
   "source": [
    "explore_data(android_clean, 0, 3, True)"
   ]
  },
  {
   "cell_type": "markdown",
   "metadata": {},
   "source": [
    "Indeed, we have 9659 rows. Our new data set is free of duplicate entries."
   ]
  },
  {
   "cell_type": "markdown",
   "metadata": {},
   "source": [
    "## Removing Non-English Apps\n",
    "\n",
    "As we use English for the apps we develop at our company so we'd like to analyze only the apps that are directed toward an English-speaking audience. Both of our data sets have apps with non-English names so we will need to remove them as we're not interested in keeping these apps. Below are some examples:"
   ]
  },
  {
   "cell_type": "code",
   "execution_count": 13,
   "metadata": {},
   "outputs": [
    {
     "name": "stdout",
     "output_type": "stream",
     "text": [
      "机で卓球\n",
      "ＣＲスーパー海物語ＩＮ沖縄４\n",
      "\n",
      "\n",
      "中国語 AQリスニング\n",
      "لعبة تقدر تربح DZ\n"
     ]
    }
   ],
   "source": [
    "print(ios[7157][1])\n",
    "print(ios[7164][1])\n",
    "print('\\n')\n",
    "print(android_clean[4412][0])\n",
    "print(android_clean[7940][0])"
   ]
  },
  {
   "cell_type": "markdown",
   "metadata": {},
   "source": [
    "The numbers corresponding to the characters we commonly use in an English text are all in the range 0 to 127, according to the ASCII (American Standard Code for Information Interchange) system. Based on this number range, we can build a function that detects whether a character belongs to the set of common English characters or not. If the number is equal to or less than 127, then the character belongs to the set of common English characters.\n",
    "\n",
    "If an app name contains a character that is greater than 127, then it probably means that the app has a non-English name. We will create a function that can check if the word is an English word."
   ]
  },
  {
   "cell_type": "code",
   "execution_count": 14,
   "metadata": {},
   "outputs": [
    {
     "name": "stdout",
     "output_type": "stream",
     "text": [
      "False\n",
      "False\n",
      "True\n"
     ]
    }
   ],
   "source": [
    "def english_words(string):\n",
    "    for char in string:\n",
    "        if ord(char) > 127:\n",
    "            return False\n",
    "    \n",
    "    return True\n",
    "\n",
    "print(english_words('机で卓球'))\n",
    "print(english_words('لعبة تقدر تربح'))\n",
    "print(english_words('Instagram'))"
   ]
  },
  {
   "cell_type": "markdown",
   "metadata": {},
   "source": [
    "The function seems to work fine, but we need to take symbols and emojis into account as some app names contain emojis and other symbols."
   ]
  },
  {
   "cell_type": "code",
   "execution_count": 15,
   "metadata": {},
   "outputs": [
    {
     "name": "stdout",
     "output_type": "stream",
     "text": [
      "False\n",
      "False\n",
      "8482\n",
      "128540\n"
     ]
    }
   ],
   "source": [
    "print(english_words('Docs To Go™ Free Office Suite'))\n",
    "print(english_words('Instachat 😜'))\n",
    "print(ord('™'))\n",
    "print(ord('😜'))"
   ]
  },
  {
   "cell_type": "markdown",
   "metadata": {},
   "source": [
    "The emojis and symbols fall outside the ASCII range hence the function doesn't work very well at present. To minimise the impact of data loss, we will remove only if an app has a name more than three non ASCII characters because it is rare that an English app name will have more than three symbols/emojis."
   ]
  },
  {
   "cell_type": "code",
   "execution_count": 16,
   "metadata": {},
   "outputs": [
    {
     "name": "stdout",
     "output_type": "stream",
     "text": [
      "True\n",
      "True\n"
     ]
    }
   ],
   "source": [
    "def english_words(string):\n",
    "    sum = 0\n",
    "    for char in string:\n",
    "        if ord(char) > 127:\n",
    "            sum += 1\n",
    "            \n",
    "    if sum >3:\n",
    "        return False\n",
    "    else:\n",
    "        return True\n",
    "    \n",
    "print(english_words('Docs To Go™ Free Office Suite'))\n",
    "print(english_words('Instachat 😜'))"
   ]
  },
  {
   "cell_type": "markdown",
   "metadata": {},
   "source": [
    "The function is now better but it is still not perfect as some non-English word might be classified as English words by our function. However, we should spend too much time on modifying the function and it is good enough for our analysis.\n",
    "\n",
    "Now we will use this new function to filter out non-English apps from both data sets."
   ]
  },
  {
   "cell_type": "code",
   "execution_count": 17,
   "metadata": {},
   "outputs": [
    {
     "name": "stdout",
     "output_type": "stream",
     "text": [
      "['Photo Editor & Candy Camera & Grid & ScrapBook', 'ART_AND_DESIGN', '4.1', '159', '19M', '10,000+', 'Free', '0', 'Everyone', 'Art & Design', 'January 7, 2018', '1.0.0', '4.0.3 and up']\n",
      "\n",
      "\n",
      "['Coloring book moana', 'ART_AND_DESIGN', '3.9', '967', '14M', '500,000+', 'Free', '0', 'Everyone', 'Art & Design;Pretend Play', 'January 15, 2018', '2.0.0', '4.0.3 and up']\n",
      "\n",
      "\n",
      "['U Launcher Lite – FREE Live Cool Themes, Hide Apps', 'ART_AND_DESIGN', '4.7', '87510', '8.7M', '5,000,000+', 'Free', '0', 'Everyone', 'Art & Design', 'August 1, 2018', '1.2.4', '4.0.3 and up']\n",
      "\n",
      "\n",
      "['Sketch - Draw & Paint', 'ART_AND_DESIGN', '4.5', '215644', '25M', '50,000,000+', 'Free', '0', 'Teen', 'Art & Design', 'June 8, 2018', 'Varies with device', '4.2 and up']\n",
      "\n",
      "\n",
      "Number of rows: 10795\n",
      "Number of columns: 13\n",
      "\n",
      "\n",
      "['281656475', 'PAC-MAN Premium', '100788224', 'USD', '3.99', '21292', '26', '4', '4.5', '6.3.5', '4+', 'Games', '38', '5', '10', '1']\n",
      "\n",
      "\n",
      "['281796108', 'Evernote - stay organized', '158578688', 'USD', '0', '161065', '26', '4', '3.5', '8.2.2', '4+', 'Productivity', '37', '5', '23', '1']\n",
      "\n",
      "\n",
      "['281940292', 'WeatherBug - Local Weather, Radar, Maps, Alerts', '100524032', 'USD', '0', '188583', '2822', '3.5', '4.5', '5.0.0', '4+', 'Weather', '37', '5', '3', '1']\n",
      "\n",
      "\n",
      "['282614216', 'eBay: Best App to Buy, Sell, Save! Online Shopping', '128512000', 'USD', '0', '262241', '649', '4', '4.5', '5.10.0', '12+', 'Shopping', '37', '5', '9', '1']\n",
      "\n",
      "\n",
      "Number of rows: 7197\n",
      "Number of columns: 16\n"
     ]
    }
   ],
   "source": [
    "# Android apps\n",
    "android_english = []\n",
    "for app in android:\n",
    "    name = app[0]\n",
    "    # if the function 'english_words' return True\n",
    "    if english_words(name):\n",
    "        android_english.append(app)\n",
    "\n",
    "# iOS apps\n",
    "ios_english = []\n",
    "for app in ios:\n",
    "    name = app[0]\n",
    "    # if the function 'english_words' return True\n",
    "    if english_words(name):\n",
    "        ios_english.append(app)\n",
    "        \n",
    "explore_data(android_english, 0, 4, True)\n",
    "print('\\n')\n",
    "explore_data(ios_english, 0, 4, True)"
   ]
  },
  {
   "cell_type": "markdown",
   "metadata": {},
   "source": [
    "Now we're left with 10795 Android apps and 7197 iOS apps."
   ]
  },
  {
   "cell_type": "markdown",
   "metadata": {},
   "source": [
    "## Isolating the Free Apps\n",
    "\n",
    "As we only build apps that are free to download and install so our main source of revenue consists of in-app ads. Our data sets contain both free and non-free apps; we'll need to isolate only the free apps for our analysis."
   ]
  },
  {
   "cell_type": "code",
   "execution_count": 18,
   "metadata": {},
   "outputs": [
    {
     "name": "stdout",
     "output_type": "stream",
     "text": [
      "9999\n",
      "4056\n"
     ]
    }
   ],
   "source": [
    "# Android\n",
    "android_final = []\n",
    "for app in android_english:\n",
    "    price = app[7]\n",
    "    if price == '0' or price == '0.0':\n",
    "        android_final.append(app)\n",
    "        \n",
    "# iOS\n",
    "ios_final = []\n",
    "for app in ios_english:\n",
    "    price = app[4]\n",
    "    if price == '0' or price == '0.0':\n",
    "        ios_final.append(app)\n",
    "        \n",
    "print(len(android_final))\n",
    "print(len(ios_final))\n"
   ]
  },
  {
   "cell_type": "markdown",
   "metadata": {},
   "source": [
    "We're now left with 9999 Android apps and 4056 iOS apps in our final data set before analysis."
   ]
  },
  {
   "cell_type": "markdown",
   "metadata": {},
   "source": [
    "## Most common genres\n",
    "\n",
    "Our aim is to determine the kinds of apps that are likely to attract more users because our revenue is highly influenced by the number of people using our apps.\n",
    "\n",
    "To minimize risks and overhead, our validation strategy for an app idea is comprised of three steps:\n",
    "\n",
    "1. Build a minimal Android version of the app, and add it to Google Play.\n",
    "2. If the app has a good response from users, we develop it further.\n",
    "3. If the app is profitable after six months, we build an iOS version of the app and add it to the App Store.\n",
    "\n",
    "Because our end goal is to add the app on both Google Play and the App Store, we need to find app profiles that are successful on both markets. For instance, a profile that works well for both markets might be a productivity app that makes use of gamification.\n",
    "\n",
    "First, let's create a frequency table for both of our data sets to get a sense of what are the most common genres for each market. We'll use the prime_genre column to create a frequency table for the iOS data set, and Genres and Category columns for the Android.\n",
    "\n",
    "We'll build two functions we can use to analyze the frequency tables:\n",
    "- One function to generate frequency tables that show percentages\n",
    "- Another function we can use to display the percentages in a descending order\n",
    "\n"
   ]
  },
  {
   "cell_type": "code",
   "execution_count": 40,
   "metadata": {
    "scrolled": false
   },
   "outputs": [],
   "source": [
    "def freq_table(dataset, index):\n",
    "    frequency_table = {}\n",
    "    for app in dataset:\n",
    "        column = app[index]\n",
    "        if column in frequency_table:\n",
    "            frequency_table[column] += 1\n",
    "        else:\n",
    "            frequency_table[column] = 1\n",
    "    \n",
    "\n",
    "    frequency_percent ={}\n",
    "    for row in frequency_table:\n",
    "        proportion = frequency_table[row] / len(dataset)\n",
    "        percentage = round((proportion*100),2)\n",
    "        frequency_percent[row] = percentage\n",
    "    return frequency_percent\n",
    "\n",
    "# Create an empty list and store the frequency table with percentage so it can be sorted in descending order\n",
    "def display_table(dataset, index):\n",
    "    table = freq_table(dataset, index)\n",
    "    table_display = []\n",
    "    for key in table:\n",
    "        # Reverse the order of dictionary key and corresponding value\n",
    "        key_val_as_tuple = (table[key], key)\n",
    "        table_display.append(key_val_as_tuple)\n",
    "        \n",
    "    # reverse = True so it will be in descending order\n",
    "    table_sorted = sorted(table_display, reverse = True)\n",
    "    for entry in table_sorted:\n",
    "        print(entry[1], ':', entry[0])"
   ]
  },
  {
   "cell_type": "code",
   "execution_count": 47,
   "metadata": {},
   "outputs": [
    {
     "name": "stdout",
     "output_type": "stream",
     "text": [
      "     iOS  -----------  prime_genre (%)\n",
      "\n",
      "\n",
      "Games : 53.66\n",
      "Entertainment : 7.43\n",
      "Education : 6.29\n",
      "Photo & Video : 4.85\n",
      "Utilities : 3.45\n",
      "Health & Fitness : 2.5\n",
      "Productivity : 2.47\n",
      "Social Networking : 2.32\n",
      "Lifestyle : 2.0\n",
      "Music : 1.92\n",
      "Shopping : 1.7\n",
      "Sports : 1.58\n",
      "Book : 1.56\n",
      "Finance : 1.45\n",
      "Travel : 1.13\n",
      "News : 1.04\n",
      "Weather : 1.0\n",
      "Reference : 0.89\n",
      "Food & Drink : 0.88\n",
      "Business : 0.79\n",
      "Navigation : 0.64\n",
      "Medical : 0.32\n",
      "Catalogs : 0.14\n"
     ]
    }
   ],
   "source": [
    "print('     iOS  -----------  prime_genre (%)')  \n",
    "print('\\n')\n",
    "android_table = display_table(ios, 11)"
   ]
  },
  {
   "cell_type": "code",
   "execution_count": 48,
   "metadata": {},
   "outputs": [
    {
     "name": "stdout",
     "output_type": "stream",
     "text": [
      "      Android ----------  Category  (%)\n",
      "\n",
      "\n",
      "FAMILY : 18.19\n",
      "GAME : 10.55\n",
      "TOOLS : 7.78\n",
      "MEDICAL : 4.27\n",
      "BUSINESS : 4.24\n",
      "PRODUCTIVITY : 3.91\n",
      "PERSONALIZATION : 3.62\n",
      "COMMUNICATION : 3.57\n",
      "SPORTS : 3.54\n",
      "LIFESTYLE : 3.52\n",
      "FINANCE : 3.38\n",
      "HEALTH_AND_FITNESS : 3.15\n",
      "PHOTOGRAPHY : 3.09\n",
      "SOCIAL : 2.72\n",
      "NEWS_AND_MAGAZINES : 2.61\n",
      "SHOPPING : 2.4\n",
      "TRAVEL_AND_LOCAL : 2.38\n",
      "DATING : 2.16\n",
      "BOOKS_AND_REFERENCE : 2.13\n",
      "VIDEO_PLAYERS : 1.61\n",
      "EDUCATION : 1.44\n",
      "ENTERTAINMENT : 1.37\n",
      "MAPS_AND_NAVIGATION : 1.26\n",
      "FOOD_AND_DRINK : 1.17\n",
      "HOUSE_AND_HOME : 0.81\n",
      "LIBRARIES_AND_DEMO : 0.78\n",
      "AUTO_AND_VEHICLES : 0.78\n",
      "WEATHER : 0.76\n",
      "ART_AND_DESIGN : 0.6\n",
      "EVENTS : 0.59\n",
      "PARENTING : 0.55\n",
      "COMICS : 0.55\n",
      "BEAUTY : 0.49\n"
     ]
    }
   ],
   "source": [
    "print('      Android ----------  Category  (%)')  \n",
    "print('\\n')\n",
    "ios_table = display_table(android, 1)"
   ]
  },
  {
   "cell_type": "code",
   "execution_count": 49,
   "metadata": {
    "scrolled": true
   },
   "outputs": [
    {
     "name": "stdout",
     "output_type": "stream",
     "text": [
      "    Android ---------  Genres  (%)\n",
      "\n",
      "\n",
      "Tools : 7.77\n",
      "Entertainment : 5.75\n",
      "Education : 5.06\n",
      "Medical : 4.27\n",
      "Business : 4.24\n",
      "Productivity : 3.91\n",
      "Sports : 3.67\n",
      "Personalization : 3.62\n",
      "Communication : 3.57\n",
      "Lifestyle : 3.51\n",
      "Finance : 3.38\n",
      "Action : 3.37\n",
      "Health & Fitness : 3.15\n",
      "Photography : 3.09\n",
      "Social : 2.72\n",
      "News & Magazines : 2.61\n",
      "Shopping : 2.4\n",
      "Travel & Local : 2.37\n",
      "Dating : 2.16\n",
      "Books & Reference : 2.13\n",
      "Arcade : 2.03\n",
      "Simulation : 1.85\n",
      "Casual : 1.78\n",
      "Video Players & Editors : 1.6\n",
      "Puzzle : 1.29\n",
      "Maps & Navigation : 1.26\n",
      "Food & Drink : 1.17\n",
      "Role Playing : 1.01\n",
      "Strategy : 0.99\n",
      "Racing : 0.9\n",
      "House & Home : 0.81\n",
      "Libraries & Demo : 0.78\n",
      "Auto & Vehicles : 0.78\n",
      "Weather : 0.76\n",
      "Adventure : 0.69\n",
      "Events : 0.59\n",
      "Comics : 0.54\n",
      "Art & Design : 0.54\n",
      "Beauty : 0.49\n",
      "Education;Education : 0.46\n",
      "Card : 0.44\n",
      "Parenting : 0.42\n",
      "Board : 0.41\n",
      "Educational;Education : 0.38\n",
      "Casino : 0.36\n",
      "Trivia : 0.35\n",
      "Educational : 0.34\n",
      "Casual;Pretend Play : 0.29\n",
      "Word : 0.27\n",
      "Entertainment;Music & Video : 0.25\n",
      "Education;Pretend Play : 0.21\n",
      "Music : 0.2\n",
      "Casual;Action & Adventure : 0.19\n",
      "Racing;Action & Adventure : 0.18\n",
      "Puzzle;Brain Games : 0.18\n",
      "Educational;Pretend Play : 0.18\n",
      "Action;Action & Adventure : 0.16\n",
      "Arcade;Action & Adventure : 0.15\n",
      "Board;Brain Games : 0.14\n",
      "Casual;Brain Games : 0.12\n",
      "Adventure;Action & Adventure : 0.12\n",
      "Simulation;Action & Adventure : 0.1\n",
      "Entertainment;Brain Games : 0.07\n",
      "Role Playing;Action & Adventure : 0.06\n",
      "Parenting;Music & Video : 0.06\n",
      "Parenting;Education : 0.06\n",
      "Educational;Brain Games : 0.06\n",
      "Education;Creativity : 0.06\n",
      "Education;Action & Adventure : 0.06\n",
      "Casual;Creativity : 0.06\n",
      "Art & Design;Creativity : 0.06\n",
      "Role Playing;Pretend Play : 0.05\n",
      "Puzzle;Action & Adventure : 0.05\n",
      "Educational;Creativity : 0.05\n",
      "Education;Music & Video : 0.05\n",
      "Education;Brain Games : 0.05\n",
      "Sports;Action & Adventure : 0.04\n",
      "Simulation;Pretend Play : 0.04\n",
      "Educational;Action & Adventure : 0.04\n",
      "Video Players & Editors;Music & Video : 0.03\n",
      "Simulation;Education : 0.03\n",
      "Music;Music & Video : 0.03\n",
      "Entertainment;Creativity : 0.03\n",
      "Entertainment;Action & Adventure : 0.03\n",
      "Casual;Education : 0.03\n",
      "Board;Action & Adventure : 0.03\n",
      "Video Players & Editors;Creativity : 0.02\n",
      "Strategy;Action & Adventure : 0.02\n",
      "Puzzle;Creativity : 0.02\n",
      "Entertainment;Pretend Play : 0.02\n",
      "Casual;Music & Video : 0.02\n",
      "Card;Action & Adventure : 0.02\n",
      "Books & Reference;Education : 0.02\n",
      "Art & Design;Pretend Play : 0.02\n",
      "Art & Design;Action & Adventure : 0.02\n",
      "Adventure;Education : 0.02\n",
      "Trivia;Education : 0.01\n",
      "Travel & Local;Action & Adventure : 0.01\n",
      "Tools;Education : 0.01\n",
      "Strategy;Education : 0.01\n",
      "Strategy;Creativity : 0.01\n",
      "Role Playing;Education : 0.01\n",
      "Role Playing;Brain Games : 0.01\n",
      "Racing;Pretend Play : 0.01\n",
      "Puzzle;Education : 0.01\n",
      "Parenting;Brain Games : 0.01\n",
      "Music & Audio;Music & Video : 0.01\n",
      "Lifestyle;Pretend Play : 0.01\n",
      "Lifestyle;Education : 0.01\n",
      "Health & Fitness;Education : 0.01\n",
      "Health & Fitness;Action & Adventure : 0.01\n",
      "Entertainment;Education : 0.01\n",
      "Communication;Creativity : 0.01\n",
      "Comics;Creativity : 0.01\n",
      "Card;Brain Games : 0.01\n",
      "Books & Reference;Creativity : 0.01\n",
      "Board;Pretend Play : 0.01\n",
      "Arcade;Pretend Play : 0.01\n",
      "Adventure;Brain Games : 0.01\n"
     ]
    }
   ],
   "source": [
    "print('    Android ---------  Genres  (%)')  \n",
    "print('\\n')\n",
    "ios_table = display_table(android, 9)"
   ]
  },
  {
   "cell_type": "markdown",
   "metadata": {},
   "source": [
    "At first glance, it seems like apps with genre of 'Game' is very popular across both platforms and overwhelmingly the most popular (54%) on the iOS. \n",
    "\n",
    "The second most popular genre for Android is 'Entertainment' suggesting that 'Game' is indeed the most attractive style of app for our users. \n",
    "\n",
    "Interestingly, apps under the category/genre of 'Tools' seems to be quite popular with Android users as it came out on top in the Genres table but not in the iOS table which will be in 'Utilities' and 'Productivity'. Another popular type of apps across both platforms is 'Education' which ranked just below 'Tools' and 'Game'.\n",
    "\n",
    "Generally, App Store (at least the part containing free English apps) is dominated by apps that are designed for fun (games, entertainment, photo and video, social networking, sports, music, etc.), while apps with practical purposes (education, shopping, utilities, productivity, lifestyle, etc.) are more rare. However, Google Play Store has users downloading apps that are related to tools and family.\n",
    "\n"
   ]
  },
  {
   "cell_type": "markdown",
   "metadata": {},
   "source": [
    "## Kind of Apps with Most Users\n",
    "\n",
    "Now let's get an idea about the kind of apps with the most users.\n",
    "\n",
    "One way to find out what genres are the most popular (have the most users) is to calculate the average number of installs for each app genre.\n",
    "\n",
    "For the Google Play data set, we can find this information in the Installs column, but this information is missing for the App Store data set. To overcome the problem, we'll take the total number of user ratings instead, which we can find in the rating_count_tot column.\n",
    "\n",
    "\n"
   ]
  },
  {
   "cell_type": "markdown",
   "metadata": {},
   "source": [
    "### App Store\n",
    "\n",
    "We 'll start by calculating the average number of user ratings per app genre on the App Store. To do that, we'll need to:\n",
    "- Isolate the apps of each genre.\n",
    "- Sum up the user ratings for the apps of that genre.\n",
    "- Divide the sum by the number of apps belonging to that genre (not by the total number of apps)."
   ]
  },
  {
   "cell_type": "code",
   "execution_count": 60,
   "metadata": {},
   "outputs": [
    {
     "data": {
      "text/plain": [
       "{'Games': 53.66,\n",
       " 'Productivity': 2.47,\n",
       " 'Weather': 1.0,\n",
       " 'Shopping': 1.7,\n",
       " 'Reference': 0.89,\n",
       " 'Finance': 1.45,\n",
       " 'Music': 1.92,\n",
       " 'Utilities': 3.45,\n",
       " 'Travel': 1.13,\n",
       " 'Social Networking': 2.32,\n",
       " 'Sports': 1.58,\n",
       " 'Business': 0.79,\n",
       " 'Health & Fitness': 2.5,\n",
       " 'Entertainment': 7.43,\n",
       " 'Photo & Video': 4.85,\n",
       " 'Navigation': 0.64,\n",
       " 'Education': 6.29,\n",
       " 'Lifestyle': 2.0,\n",
       " 'Food & Drink': 0.88,\n",
       " 'News': 1.04,\n",
       " 'Book': 1.56,\n",
       " 'Medical': 0.32,\n",
       " 'Catalogs': 0.14}"
      ]
     },
     "execution_count": 60,
     "metadata": {},
     "output_type": "execute_result"
    }
   ],
   "source": [
    "# Generate a frequency table for the prime_genre column to get the unique app genres\n",
    "freq_table(ios, 11)\n"
   ]
  },
  {
   "cell_type": "code",
   "execution_count": 70,
   "metadata": {},
   "outputs": [
    {
     "name": "stdout",
     "output_type": "stream",
     "text": [
      "Games : 18925\n",
      "Productivity : 19054\n",
      "Weather : 47221\n",
      "Shopping : 18747\n",
      "Reference : 67448\n",
      "Finance : 13522\n",
      "Music : 56482\n",
      "Utilities : 14010\n",
      "Travel : 20216\n",
      "Social Networking : 53078\n",
      "Sports : 20129\n",
      "Business : 6368\n",
      "Health & Fitness : 19952\n",
      "Entertainment : 10823\n",
      "Photo & Video : 27250\n",
      "Navigation : 25972\n",
      "Education : 6266\n",
      "Lifestyle : 8978\n",
      "Food & Drink : 20179\n",
      "News : 15893\n",
      "Book : 8498\n",
      "Medical : 460\n",
      "Catalogs : 1780\n"
     ]
    }
   ],
   "source": [
    "prime_genre = freq_table(ios, 11)\n",
    "\n",
    "# Create a loop over each unique genres of the iOS data set\n",
    "for genre in prime_genre:\n",
    "    # Store the sum of user ratings(the number of ratings, not the actual ratings) specific to each genre\n",
    "    total = 0\n",
    "    # Store the number of apps specific to each genre\n",
    "    len_genre = 0\n",
    "    # Create another loop which will run in each iteration of the loop below\n",
    "    for app in ios_final:\n",
    "        genre_app = app[11]\n",
    "        # if the genre from iOS data set is the same as the genre in the frequency table\n",
    "        if genre_app == genre:\n",
    "            n_ratings = float(app[5])\n",
    "            total += n_ratings\n",
    "            len_genre += 1\n",
    "    avg_n_ratings = total / len_genre\n",
    "    print(genre, ':', round(avg_n_ratings))"
   ]
  },
  {
   "cell_type": "markdown",
   "metadata": {},
   "source": [
    "Reference apps have the highest average ratings. Lets have a look at some examples of apps over 100000"
   ]
  },
  {
   "cell_type": "code",
   "execution_count": 95,
   "metadata": {},
   "outputs": [
    {
     "name": "stdout",
     "output_type": "stream",
     "text": [
      "Bible : 985920\n",
      "Dictionary.com Dictionary & Thesaurus : 200047\n",
      "Dictionary.com Dictionary & Thesaurus for iPad : 54175\n",
      "Muslim Pro: Ramadan 2017 Prayer Times, Azan, Quran : 18418\n",
      "Merriam-Webster Dictionary : 16849\n",
      "Google Translate : 26786\n",
      "Night Sky : 12122\n",
      "New Furniture Mods - Pocket Wiki & Game Tools for Minecraft PC Edition : 17588\n",
      "LUCKY BLOCK MOD ™ for Minecraft PC Edition - The Best Pocket Wiki & Mods Installer Tools : 4693\n",
      "City Maps for Minecraft PE - The Best Maps for Minecraft Pocket Edition (MCPE) : 8535\n",
      "GUNS MODS for Minecraft PC Edition - Mods Tools : 1497\n"
     ]
    }
   ],
   "source": [
    "for app in ios_final:\n",
    "    if app[11] == 'Reference' and (float(app[5]) > 1000):\n",
    "        print(app[1], ':', app[5])"
   ]
  },
  {
   "cell_type": "markdown",
   "metadata": {},
   "source": [
    "We can see that the religious apps came out on top. Since we are trying to build apps for large variety of users we would need to find other genre to make our decision on our future apps. Although we need to bear in mind that dictionaries are quite popular too.\n",
    "\n",
    "Next, we will look at Social Networking apps with over 100000 total ratings."
   ]
  },
  {
   "cell_type": "code",
   "execution_count": 86,
   "metadata": {},
   "outputs": [
    {
     "name": "stdout",
     "output_type": "stream",
     "text": [
      "Facebook : 2974676\n",
      "Skype for iPhone : 373519\n",
      "Tumblr : 334293\n",
      "WhatsApp Messenger : 287589\n",
      "TextNow - Unlimited Text + Calls : 164963\n",
      "Kik : 260965\n",
      "Viber Messenger – Text & Call : 164249\n",
      "ooVoo – Free Video Call, Text and Voice : 177501\n",
      "Pinterest : 1061624\n",
      "Messenger : 351466\n",
      "Followers - Social Analytics For Instagram : 112778\n"
     ]
    }
   ],
   "source": [
    "for app in ios_final:\n",
    "    if app[11] == 'Social Networking' and (float(app[5]) > 100000):\n",
    "        print(app[1], ':', app[5])"
   ]
  },
  {
   "cell_type": "markdown",
   "metadata": {},
   "source": [
    "It's clear that Facebook is the most popular app while apps like Skype, Tumblr and WhatsApp are also quite popular with our iOS users."
   ]
  },
  {
   "cell_type": "code",
   "execution_count": 88,
   "metadata": {},
   "outputs": [
    {
     "name": "stdout",
     "output_type": "stream",
     "text": [
      "Pandora - Music & Radio : 1126879\n",
      "Shazam - Discover music, artists, videos & lyrics : 402925\n",
      "iHeartRadio – Free Music & Radio Stations : 293228\n",
      "Sonos Controller : 48905\n",
      "Spotify Music : 878563\n",
      "SoundCloud - Music & Audio : 135744\n",
      "Sing Karaoke Songs Unlimited with StarMaker : 26227\n",
      "SoundHound Song Search & Music Player : 82602\n",
      "Ringtones for iPhone & Ringtone Maker : 25403\n",
      "TuneIn Radio - MLB NBA Audiobooks Podcasts Music : 110420\n",
      "Magic Piano by Smule : 131695\n",
      "Bandsintown Concerts : 30845\n",
      "edjing Mix:DJ turntable to remix and scratch music : 13580\n",
      "Smule Sing! : 119316\n",
      "Amazon Music : 106235\n",
      "AutoRap by Smule : 18202\n",
      "My Mixtapez Music : 26286\n",
      "Karaoke - Sing Karaoke, Unlimited Songs! : 28606\n",
      "Napster - Top Music & Radio : 14268\n",
      "Musi - Unlimited Music For YouTube : 25193\n",
      "Spinrilla - Mixtapes For Free : 15053\n",
      "Google Play Music : 10118\n",
      "Free Piano app by Yokee : 13016\n",
      "Free Music - MP3 Streamer & Playlist Manager Pro : 13443\n"
     ]
    }
   ],
   "source": [
    "for app in ios_final:\n",
    "    if app[11] == 'Music' and (float(app[5]) > 10000):\n",
    "        print(app[1], ':', app[5])"
   ]
  },
  {
   "cell_type": "markdown",
   "metadata": {},
   "source": [
    "Looking at the distribution of the different music apps on the market, it seems like our users are willing to experiment different music apps which our companies could focus on making. Because social networking apps have some big names already and the impact that our new apps is going to have will be minimal and may take a long time to establish in the market."
   ]
  },
  {
   "cell_type": "code",
   "execution_count": 98,
   "metadata": {},
   "outputs": [
    {
     "name": "stdout",
     "output_type": "stream",
     "text": [
      "Evernote - stay organized : 161065\n",
      "iTranslate - Language Translator & Dictionary : 123215\n",
      "Dropbox : 49578\n",
      "Documents 6 - File manager, PDF reader and browser : 29110\n",
      "Microsoft OneNote : 39638\n",
      "Gmail - email by Google: secure, fast & organized : 135962\n",
      "Hotspot Shield Free VPN Proxy & Wi-Fi Privacy : 32499\n",
      "Microsoft OneDrive – File & photo cloud storage : 12797\n",
      "Paper by FiftyThree - Sketch, Diagram, Take Notes : 18219\n",
      "Google Drive - free online storage : 59255\n",
      "T-Mobile : 19977\n",
      "Yahoo Mail - Keeps You Organized! : 113709\n",
      "MyScript Calculator - Handwriting calculator : 16555\n",
      "Microsoft Word : 47999\n",
      "Microsoft PowerPoint : 10939\n",
      "Microsoft Excel : 24430\n",
      "Drawing Desk - Draw, Paint, Doodle & Sketch board : 11040\n",
      "Tayasui Sketches : 11505\n",
      "Ever - Capture Your Memories : 12755\n",
      "Speak & Translate － Voice and Text Translator : 12062\n",
      "Google Docs : 64259\n",
      "Google Sheets : 24602\n",
      "Inbox by Gmail : 21561\n",
      "Email - Fast & Secure mail for Gmail iCloud Yahoo : 10778\n",
      "Microsoft Outlook - email and calendar : 32807\n",
      "VPN Proxy Master - Unlimited WiFi security VPN : 13674\n"
     ]
    }
   ],
   "source": [
    "for app in ios_final:\n",
    "    if app[11] == 'Productivity' and (float(app[5]) > 10000):\n",
    "        print(app[1], ':', app[5])"
   ]
  },
  {
   "cell_type": "code",
   "execution_count": 99,
   "metadata": {},
   "outputs": [
    {
     "name": "stdout",
     "output_type": "stream",
     "text": [
      "Evernote - stay organized : 161065\n",
      "iTranslate - Language Translator & Dictionary : 123215\n",
      "Dropbox : 49578\n",
      "Documents 6 - File manager, PDF reader and browser : 29110\n",
      "Microsoft OneNote : 39638\n",
      "Gmail - email by Google: secure, fast & organized : 135962\n",
      "Hotspot Shield Free VPN Proxy & Wi-Fi Privacy : 32499\n",
      "Microsoft OneDrive – File & photo cloud storage : 12797\n",
      "Paper by FiftyThree - Sketch, Diagram, Take Notes : 18219\n",
      "Google Drive - free online storage : 59255\n",
      "T-Mobile : 19977\n",
      "Yahoo Mail - Keeps You Organized! : 113709\n",
      "MyScript Calculator - Handwriting calculator : 16555\n",
      "Microsoft Word : 47999\n",
      "Microsoft PowerPoint : 10939\n",
      "Microsoft Excel : 24430\n",
      "Drawing Desk - Draw, Paint, Doodle & Sketch board : 11040\n",
      "Tayasui Sketches : 11505\n",
      "Ever - Capture Your Memories : 12755\n",
      "Speak & Translate － Voice and Text Translator : 12062\n",
      "Google Docs : 64259\n",
      "Google Sheets : 24602\n",
      "Inbox by Gmail : 21561\n",
      "Email - Fast & Secure mail for Gmail iCloud Yahoo : 10778\n",
      "Microsoft Outlook - email and calendar : 32807\n",
      "VPN Proxy Master - Unlimited WiFi security VPN : 13674\n"
     ]
    }
   ],
   "source": [
    "for app in ios_final:\n",
    "    if app[11] == 'Productivity' and (float(app[5]) > 10000):\n",
    "        print(app[1], ':', app[5])"
   ]
  },
  {
   "cell_type": "markdown",
   "metadata": {},
   "source": [
    "The apps for processing and reading ebooks seems quite popular, as well as various collections of translator and dictionaries, so it's probably a good idea to build similar apps."
   ]
  },
  {
   "cell_type": "markdown",
   "metadata": {},
   "source": [
    "### Google Play Store\n",
    "\n",
    "We have data about the number of installs for the Google Play market, so we should be able to get a clearer picture about genre popularity. Lets display the frequency table for the Android data set. "
   ]
  },
  {
   "cell_type": "code",
   "execution_count": 64,
   "metadata": {},
   "outputs": [
    {
     "name": "stdout",
     "output_type": "stream",
     "text": [
      "1,000,000+ : 15.52\n",
      "10,000,000+ : 12.49\n",
      "100,000+ : 10.72\n",
      "10,000+ : 9.16\n",
      "1,000+ : 7.52\n",
      "5,000,000+ : 7.5\n",
      "100+ : 6.2\n",
      "500,000+ : 5.27\n",
      "50,000+ : 4.3\n",
      "100,000,000+ : 4.09\n",
      "5,000+ : 4.07\n",
      "10+ : 3.15\n",
      "500+ : 2.9\n",
      "50,000,000+ : 2.89\n",
      "50+ : 1.71\n",
      "500,000,000+ : 0.72\n",
      "5+ : 0.7\n",
      "1,000,000,000+ : 0.58\n",
      "1+ : 0.45\n",
      "0+ : 0.04\n",
      "0 : 0.01\n"
     ]
    }
   ],
   "source": [
    "display_table(android_final, 5) "
   ]
  },
  {
   "cell_type": "markdown",
   "metadata": {},
   "source": [
    "The install numbers don't seem precise enough — we can see that most values are open-ended (100+, 1,000+, 5,000+, etc.). However, we don't need very precise data for our purposes — we only want to find out which app genres attract the most users, and we don't need perfect precision with respect to the number of users.\n",
    "\n",
    "We'll consider that an app with 100,000+ installs has 100,000 installs, and an app with 1,000,000+ installs has 1,000,000 installs, and so on. First, we'll need to convert each install number from string to float so we can remove the commas and the plus characters for our calculation."
   ]
  },
  {
   "cell_type": "code",
   "execution_count": 71,
   "metadata": {},
   "outputs": [
    {
     "name": "stdout",
     "output_type": "stream",
     "text": [
      "ART_AND_DESIGN  :  2038051\n",
      "AUTO_AND_VEHICLES  :  647318\n",
      "BEAUTY  :  513152\n",
      "BOOKS_AND_REFERENCE  :  9655197\n",
      "BUSINESS  :  2250454\n",
      "COMICS  :  950443\n",
      "COMMUNICATION  :  90935672\n",
      "DATING  :  1164271\n",
      "EDUCATION  :  5760596\n",
      "ENTERTAINMENT  :  19516735\n",
      "EVENTS  :  253542\n",
      "FINANCE  :  2511356\n",
      "FOOD_AND_DRINK  :  2190710\n",
      "HEALTH_AND_FITNESS  :  4869226\n",
      "HOUSE_AND_HOME  :  1917187\n",
      "LIBRARIES_AND_DEMO  :  749950\n",
      "LIFESTYLE  :  1479957\n",
      "GAME  :  33111303\n",
      "FAMILY  :  5784095\n",
      "MEDICAL  :  147563\n",
      "SOCIAL  :  48184459\n",
      "SHOPPING  :  12637504\n",
      "PHOTOGRAPHY  :  32321374\n",
      "SPORTS  :  4860919\n",
      "TRAVEL_AND_LOCAL  :  27921561\n",
      "TOOLS  :  14988277\n",
      "PERSONALIZATION  :  7533233\n",
      "PRODUCTIVITY  :  35885138\n",
      "PARENTING  :  542604\n",
      "WEATHER  :  5747142\n",
      "VIDEO_PLAYERS  :  36599010\n",
      "NEWS_AND_MAGAZINES  :  27058831\n",
      "MAPS_AND_NAVIGATION  :  5569698\n"
     ]
    }
   ],
   "source": [
    "category_android = freq_table(android_final, 1)\n",
    "\n",
    "for category in category_android:\n",
    "    total = 0 \n",
    "    len_category = 0\n",
    "    for app in android_final:\n",
    "        category_app = app[1]\n",
    "        if category_app == category:\n",
    "            n_installs = app[5]\n",
    "            n_installs = n_installs.replace(',' , '')\n",
    "            n_installs = n_installs.replace('+', '')\n",
    "            total += float(n_installs)\n",
    "            len_category += 1\n",
    "    avg_install = total/ len_category\n",
    "    print(category, ' : ', round(avg_install))"
   ]
  },
  {
   "cell_type": "markdown",
   "metadata": {},
   "source": [
    "For the Android users, communication apps have the most installs: 38,456,119. "
   ]
  },
  {
   "cell_type": "code",
   "execution_count": 74,
   "metadata": {},
   "outputs": [
    {
     "name": "stdout",
     "output_type": "stream",
     "text": [
      "Messenger – Text and Video Chat for Free : 1,000,000,000+\n",
      "WhatsApp Messenger : 1,000,000,000+\n",
      "Google Chrome: Fast & Secure : 1,000,000,000+\n",
      "Gmail : 1,000,000,000+\n",
      "Hangouts : 1,000,000,000+\n",
      "Viber Messenger : 500,000,000+\n",
      "imo free video calls and chat : 500,000,000+\n",
      "Google Duo - High Quality Video Calls : 500,000,000+\n",
      "UC Browser - Fast Download Private & Secure : 500,000,000+\n",
      "WhatsApp Messenger : 1,000,000,000+\n",
      "Messenger – Text and Video Chat for Free : 1,000,000,000+\n",
      "imo free video calls and chat : 500,000,000+\n",
      "Viber Messenger : 500,000,000+\n",
      "Hangouts : 1,000,000,000+\n",
      "Skype - free IM & video calls : 1,000,000,000+\n",
      "LINE: Free Calls & Messages : 500,000,000+\n",
      "Google Chrome: Fast & Secure : 1,000,000,000+\n",
      "UC Browser - Fast Download Private & Secure : 500,000,000+\n",
      "Viber Messenger : 500,000,000+\n",
      "Gmail : 1,000,000,000+\n",
      "Hangouts : 1,000,000,000+\n",
      "imo free video calls and chat : 500,000,000+\n",
      "Viber Messenger : 500,000,000+\n",
      "Skype - free IM & video calls : 1,000,000,000+\n",
      "LINE: Free Calls & Messages : 500,000,000+\n",
      "WhatsApp Messenger : 1,000,000,000+\n",
      "UC Browser - Fast Download Private & Secure : 500,000,000+\n",
      "Google Chrome: Fast & Secure : 1,000,000,000+\n",
      "Google Duo - High Quality Video Calls : 500,000,000+\n",
      "Gmail : 1,000,000,000+\n",
      "Messenger – Text and Video Chat for Free : 1,000,000,000+\n",
      "LINE: Free Calls & Messages : 500,000,000+\n",
      "Hangouts : 1,000,000,000+\n",
      "imo free video calls and chat : 500,000,000+\n",
      "Skype - free IM & video calls : 1,000,000,000+\n",
      "Viber Messenger : 500,000,000+\n"
     ]
    }
   ],
   "source": [
    "for app in android_final:\n",
    "    if app[1] == 'COMMUNICATION' and (app[5] == '1,000,000,000+'\n",
    "                                      or app[5] == '500,000,000+'):\n",
    "        print(app[0], ':', app[5])"
   ]
  },
  {
   "cell_type": "markdown",
   "metadata": {},
   "source": [
    "As we can see the communication apps that have over one billion installs (WhatsApp, Facebook Messenger, Skype, Google Chrome, Gmail, and Hangouts), and a few others with over 500 million installs.\n",
    "\n",
    "Across both platforms, social networking and communication is clearly the most popular with our users. Apps like Facebook, Viber, Whatsapp, Gmail are the kind of apps that our company should focus on building in the future.\n",
    "\n",
    "Now lets look at entertainment apps:"
   ]
  },
  {
   "cell_type": "code",
   "execution_count": 93,
   "metadata": {},
   "outputs": [
    {
     "name": "stdout",
     "output_type": "stream",
     "text": [
      "Netflix : 100,000,000+\n",
      "Tubi TV - Free Movies & TV : 10,000,000+\n",
      "YouTube Kids : 50,000,000+\n",
      "Mobile TV : 10,000,000+\n",
      "TV+ : 5,000,000+\n",
      "Digital TV : 5,000,000+\n",
      "Motorola Spotlight Player™ : 10,000,000+\n",
      "Vigo Lite : 5,000,000+\n",
      "Google Play Games : 1,000,000,000+\n",
      "Hotstar : 100,000,000+\n",
      "Peers.TV: broadcast TV channels First, Match TV, TNT ... : 5,000,000+\n",
      "Spectrum TV : 5,000,000+\n",
      "H TV : 5,000,000+\n",
      "MEGOGO - Cinema and TV : 10,000,000+\n",
      "Talking Angela : 100,000,000+\n",
      "DStv Now : 5,000,000+\n",
      "ivi - movies and TV shows in HD : 10,000,000+\n",
      "Viki: Asian TV Dramas & Movies : 10,000,000+\n",
      "Talking Ginger 2 : 50,000,000+\n",
      "Girly Lock Screen Wallpaper with Quotes : 5,000,000+\n",
      "No.Draw - Colors by Number 2018 : 10,000,000+\n",
      "Movies by Flixster, with Rotten Tomatoes : 10,000,000+\n",
      "BBC Media Player : 10,000,000+\n",
      "Amazon Prime Video : 50,000,000+\n",
      "IMDb Movies & TV : 100,000,000+\n",
      "Twitch: Livestream Multiplayer Games & Esports : 50,000,000+\n",
      "YouTube Gaming : 5,000,000+\n",
      "PlayStation App : 50,000,000+\n",
      "Talking Ben the Dog : 100,000,000+\n",
      "Movies by Flixster, with Rotten Tomatoes : 10,000,000+\n",
      "Fandango Movies - Times + Tickets : 10,000,000+\n",
      "IMDb Movies & TV : 100,000,000+\n",
      "Netflix : 100,000,000+\n",
      "Crunchyroll - Everything Anime : 10,000,000+\n",
      "Crackle - Free TV & Movies : 10,000,000+\n",
      "CBS - Full Episodes & Live TV : 10,000,000+\n",
      "STARZ : 10,000,000+\n",
      "Nick : 10,000,000+\n",
      "FOX NOW - On Demand & Live TV : 5,000,000+\n",
      "The CW : 5,000,000+\n",
      "Hulu: Stream TV, Movies & more : 10,000,000+\n",
      "HBO NOW: Stream TV & Movies : 10,000,000+\n",
      "IMDb Movies & TV : 100,000,000+\n",
      "Netflix : 100,000,000+\n",
      "Tubi TV - Free Movies & TV : 10,000,000+\n",
      "Crunchyroll - Everything Anime : 10,000,000+\n",
      "STARZ : 10,000,000+\n",
      "Crackle - Free TV & Movies : 10,000,000+\n",
      "CBS - Full Episodes & Live TV : 10,000,000+\n",
      "Nick : 10,000,000+\n",
      "Hulu: Stream TV, Movies & more : 10,000,000+\n",
      "FOX NOW - On Demand & Live TV : 5,000,000+\n",
      "The CW : 5,000,000+\n",
      "The NBC App - Watch Live TV and Full Episodes : 5,000,000+\n",
      "HBO NOW: Stream TV & Movies : 10,000,000+\n",
      "WWE : 10,000,000+\n",
      "HBO GO: Stream with TV Package : 10,000,000+\n",
      "PlayKids - Educational cartoons and games for kids : 10,000,000+\n",
      "FOX : 10,000,000+\n",
      "Netflix : 100,000,000+\n",
      "Tubi TV - Free Movies & TV : 10,000,000+\n",
      "Vudu Movies & TV : 10,000,000+\n",
      "Crackle - Free TV & Movies : 10,000,000+\n",
      "Crunchyroll - Everything Anime : 10,000,000+\n",
      "Nick : 10,000,000+\n",
      "STARZ : 10,000,000+\n",
      "Hulu: Stream TV, Movies & more : 10,000,000+\n",
      "FOX NOW - On Demand & Live TV : 5,000,000+\n",
      "Movies by Flixster, with Rotten Tomatoes : 10,000,000+\n",
      "Viki: Asian TV Dramas & Movies : 10,000,000+\n",
      "The CW : 5,000,000+\n",
      "Redbox : 10,000,000+\n",
      "HBO NOW: Stream TV & Movies : 10,000,000+\n",
      "FOX : 10,000,000+\n",
      "Viki: Asian TV Dramas & Movies : 10,000,000+\n",
      "ColorFul - Adult Coloring Book : 5,000,000+\n",
      "Nick : 10,000,000+\n",
      "Fandango Movies - Times + Tickets : 10,000,000+\n",
      "Imgur: Find funny GIFs, memes & watch viral videos : 10,000,000+\n",
      "SketchBook - draw and paint : 10,000,000+\n",
      "Colorfy: Coloring Book for Adults - Free : 10,000,000+\n"
     ]
    }
   ],
   "source": [
    "for app in android_final:\n",
    "    if app[1] == 'ENTERTAINMENT' and (app[5] == '1,000,000,000+'\n",
    "                                      or app[5] == '500,000,000+'\n",
    "                                      or app[5] == '100,000,000+'\n",
    "                                      or app[5] == '50,000,000+'\n",
    "                                     or app[5] == '10,000,000+'\n",
    "                                     or app[5] == '5,000,000+'):\n",
    "        print(app[0], ':', app[5])"
   ]
  },
  {
   "cell_type": "markdown",
   "metadata": {},
   "source": [
    "Let's look at books and reference apps."
   ]
  },
  {
   "cell_type": "code",
   "execution_count": 94,
   "metadata": {},
   "outputs": [
    {
     "name": "stdout",
     "output_type": "stream",
     "text": [
      "Wattpad 📖 Free Books : 100,000,000+\n",
      "Wikipedia : 10,000,000+\n",
      "Amazon Kindle : 100,000,000+\n",
      "Cool Reader : 10,000,000+\n",
      "Dictionary - Merriam-Webster : 10,000,000+\n",
      "NOOK: Read eBooks & Magazines : 10,000,000+\n",
      "FBReader: Favorite Book Reader : 10,000,000+\n",
      "Google Play Books : 1,000,000,000+\n",
      "AlReader -any text book reader : 5,000,000+\n",
      "Oxford Dictionary of English : Free : 10,000,000+\n",
      "Spanish English Translator : 10,000,000+\n",
      "Ebook Reader : 5,000,000+\n",
      "Read books online : 5,000,000+\n",
      "Ancestry : 5,000,000+\n",
      "HTC Help : 10,000,000+\n",
      "Moon+ Reader : 10,000,000+\n",
      "English Dictionary - Offline : 10,000,000+\n",
      "Bible : 100,000,000+\n",
      "Amazon Kindle : 100,000,000+\n",
      "Ebook Reader : 5,000,000+\n",
      "Aldiko Book Reader : 10,000,000+\n",
      "Wattpad 📖 Free Books : 100,000,000+\n",
      "Dictionary - WordWeb : 5,000,000+\n",
      "50000 Free eBooks & Free AudioBooks : 5,000,000+\n",
      "Al-Quran (Free) : 10,000,000+\n",
      "Al Quran Indonesia : 10,000,000+\n",
      "Al'Quran Bahasa Indonesia : 10,000,000+\n",
      "Al Quran : EAlim - Translations & MP3 Offline : 5,000,000+\n",
      "Quran for Android : 10,000,000+\n",
      "Audiobooks from Audible : 100,000,000+\n",
      "Dictionary.com: Find Definitions for English Words : 10,000,000+\n",
      "English Dictionary - Offline : 10,000,000+\n",
      "Bible KJV : 5,000,000+\n",
      "NOOK: Read eBooks & Magazines : 10,000,000+\n",
      "Dictionary : 10,000,000+\n",
      "Spanish English Translator : 10,000,000+\n",
      "Dictionary - Merriam-Webster : 10,000,000+\n",
      "JW Library : 10,000,000+\n",
      "Oxford Dictionary of English : Free : 10,000,000+\n",
      "English Hindi Dictionary : 10,000,000+\n",
      "English to Hindi Dictionary : 5,000,000+\n"
     ]
    }
   ],
   "source": [
    "for app in android_final:\n",
    "    if app[1] == 'BOOKS_AND_REFERENCE' and (app[5] == '1,000,000,000+'\n",
    "                                      or app[5] == '500,000,000+'\n",
    "                                      or app[5] == '100,000,000+'\n",
    "                                      or app[5] == '50,000,000+'\n",
    "                                     or app[5] == '10,000,000+'\n",
    "                                     or app[5] == '5,000,000+'):\n",
    "        print(app[0], ':', app[5])"
   ]
  },
  {
   "cell_type": "markdown",
   "metadata": {},
   "source": [
    "We can see that apps like dictionary, ereader and translator are very popular with our users."
   ]
  },
  {
   "cell_type": "markdown",
   "metadata": {},
   "source": [
    "## Conclusions\n",
    "\n",
    "In this project, we analysed data about the App Store and Google Play mobile apps with the goal of recommending an app profile that can be profitable for both markets. \n",
    "\n",
    "\n",
    "We concluded that making a dictionary or translation app  could be profitable for both the Google Play and the App Store markets. Another option is to take a recent popular book and turning it into an app. Although I have suggested making a music app for the iOS but books and reference apps are better for both platforms. The markets are already full of libraries, so we need to add some special features besides the raw version of the book to make it more appealing to our users."
   ]
  },
  {
   "cell_type": "code",
   "execution_count": null,
   "metadata": {},
   "outputs": [],
   "source": []
  }
 ],
 "metadata": {
  "kernelspec": {
   "display_name": "Python 3",
   "language": "python",
   "name": "python3"
  },
  "language_info": {
   "codemirror_mode": {
    "name": "ipython",
    "version": 3
   },
   "file_extension": ".py",
   "mimetype": "text/x-python",
   "name": "python",
   "nbconvert_exporter": "python",
   "pygments_lexer": "ipython3",
   "version": "3.7.3"
  }
 },
 "nbformat": 4,
 "nbformat_minor": 2
}
